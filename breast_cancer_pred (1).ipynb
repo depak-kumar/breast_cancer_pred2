{
  "nbformat": 4,
  "nbformat_minor": 0,
  "metadata": {
    "colab": {
      "provenance": []
    },
    "kernelspec": {
      "name": "python3",
      "display_name": "Python 3"
    },
    "language_info": {
      "name": "python"
    }
  },
  "cells": [
    {
      "cell_type": "code",
      "execution_count": null,
      "metadata": {
        "id": "LzF5cH0IzHB0"
      },
      "outputs": [],
      "source": [
        "!pip install streamlit\n",
        "import pandas as pd\n",
        "import numpy as np\n",
        "import pickle"
      ]
    },
    {
      "cell_type": "code",
      "source": [
        "from google.colab import drive\n",
        "drive.mount('/content/drive')"
      ],
      "metadata": {
        "colab": {
          "base_uri": "https://localhost:8080/"
        },
        "id": "3A_4IHfezMFE",
        "outputId": "f4ba2b04-40bf-4081-af22-b22fd1d8d132"
      },
      "execution_count": null,
      "outputs": [
        {
          "output_type": "stream",
          "name": "stdout",
          "text": [
            "Mounted at /content/drive\n"
          ]
        }
      ]
    },
    {
      "cell_type": "code",
      "source": [
        "! streamlit run /content/drive/MyDrive/cropprotection.py & npx localtunnel --port 8501\n"
      ],
      "metadata": {
        "id": "7iEP-7CCzPdI"
      },
      "execution_count": null,
      "outputs": []
    },
    {
      "cell_type": "code",
      "source": [],
      "metadata": {
        "id": "vxTe1XczziJW"
      },
      "execution_count": null,
      "outputs": []
    }
  ]
}